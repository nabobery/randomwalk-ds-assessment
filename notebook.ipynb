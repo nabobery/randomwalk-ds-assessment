{
 "cells": [
  {
   "cell_type": "code",
   "execution_count": 1,
   "metadata": {},
   "outputs": [],
   "source": [
    "# import the required libraries\n",
    "import numpy as np \n",
    "import matplotlib.pyplot as plt\n",
    "import pandas as pd\n",
    "import seaborn as sns"
   ]
  },
  {
   "cell_type": "code",
   "execution_count": 3,
   "metadata": {},
   "outputs": [
    {
     "name": "stdout",
     "output_type": "stream",
     "text": [
      "   book_id  goodreads_book_id  best_book_id  work_id  books_count        isbn  \\\n",
      "0       15              48855         48855  3532896          710   553296981   \n",
      "1       40              19501         19501  3352398          185   143038419   \n",
      "2       81               7445          7445  2944133           92  074324754X   \n",
      "3       82               1845          1845  3284484          108   385486804   \n",
      "4       87               1617          1617   265616          109   374500010   \n",
      "\n",
      "         isbn13                                            authors  \\\n",
      "0  9.780553e+12  Anne Frank, Eleanor Roosevelt, B.M. Mooyaart-D...   \n",
      "1  9.780143e+12                                  Elizabeth Gilbert   \n",
      "2  9.780743e+12                                    Jeannette Walls   \n",
      "3  9.780385e+12                                       Jon Krakauer   \n",
      "4  9.780375e+12                         Elie Wiesel, Marion Wiesel   \n",
      "\n",
      "   original_publication_year  \\\n",
      "0                     1947.0   \n",
      "1                     2006.0   \n",
      "2                     2005.0   \n",
      "3                     1996.0   \n",
      "4                     1958.0   \n",
      "\n",
      "                                      original_title  ... work_ratings_count  \\\n",
      "0  Het Achterhuis: Dagboekbrieven 14 juni 1942 - ...  ...            2024493   \n",
      "1  Eat, pray, love: one woman's search for everyt...  ...            1206597   \n",
      "2                                   The Glass Castle  ...             637866   \n",
      "3                                      Into the Wild  ...             665377   \n",
      "4                            Un di Velt Hot Geshvign  ...             707879   \n",
      "\n",
      "  work_text_reviews_count  ratings_1  ratings_2  ratings_3  ratings_4  \\\n",
      "0                   20825      45225      91270     355756     656870   \n",
      "1                   49714     100373     149549     310212     332191   \n",
      "2                   40777       7901      18922      85191     227750   \n",
      "3                   17299      19229      35567     135199     248287   \n",
      "4                   22001       7761      18539      90575     230227   \n",
      "\n",
      "   ratings_5                                          image_url  \\\n",
      "0     875372  https://images.gr-assets.com/books/1358276407m...   \n",
      "1     314272  https://images.gr-assets.com/books/1503066414m...   \n",
      "2     298102  https://images.gr-assets.com/books/1400930557m...   \n",
      "3     227095  https://images.gr-assets.com/books/1403173986m...   \n",
      "4     360777  https://images.gr-assets.com/books/1473495285m...   \n",
      "\n",
      "                                     small_image_url  NonEnglish  \n",
      "0  https://images.gr-assets.com/books/1358276407s...           0  \n",
      "1  https://images.gr-assets.com/books/1503066414s...           0  \n",
      "2  https://images.gr-assets.com/books/1400930557s...           0  \n",
      "3  https://images.gr-assets.com/books/1403173986s...           0  \n",
      "4  https://images.gr-assets.com/books/1473495285s...           0  \n",
      "\n",
      "[5 rows x 24 columns]\n"
     ]
    }
   ],
   "source": [
    "# import the dataset books.csv\n",
    "df = pd.read_csv('books.csv')\n",
    "\n",
    "# print the first 5 rows of the dataset\n",
    "print(df.head())"
   ]
  },
  {
   "cell_type": "markdown",
   "metadata": {},
   "source": [
    " Q1: How many rows and columns are there in books.csv dataset?"
   ]
  },
  {
   "cell_type": "code",
   "execution_count": 4,
   "metadata": {},
   "outputs": [
    {
     "name": "stdout",
     "output_type": "stream",
     "text": [
      "Number of rows:  399\n",
      "Number of columns:  24\n"
     ]
    }
   ],
   "source": [
    "# get the shape of dataset\n",
    "shape = df.shape\n",
    "\n",
    "print(\"Number of rows: \", shape[0])\n",
    "\n",
    "print(\"Number of columns: \", shape[1])"
   ]
  },
  {
   "cell_type": "code",
   "execution_count": 5,
   "metadata": {},
   "outputs": [
    {
     "name": "stdout",
     "output_type": "stream",
     "text": [
      "Index(['book_id', 'goodreads_book_id', 'best_book_id', 'work_id',\n",
      "       'books_count', 'isbn', 'isbn13', 'authors', 'original_publication_year',\n",
      "       'original_title', 'title', 'language_code', 'average_rating',\n",
      "       'ratings_count', 'work_ratings_count', 'work_text_reviews_count',\n",
      "       'ratings_1', 'ratings_2', 'ratings_3', 'ratings_4', 'ratings_5',\n",
      "       'image_url', 'small_image_url', 'NonEnglish'],\n",
      "      dtype='object')\n"
     ]
    }
   ],
   "source": [
    "# print all the columns of the dataset\n",
    "print(df.columns)"
   ]
  },
  {
   "cell_type": "markdown",
   "metadata": {},
   "source": [
    " Q2: How many books do not have an original title?"
   ]
  },
  {
   "cell_type": "code",
   "execution_count": 6,
   "metadata": {},
   "outputs": [
    {
     "name": "stdout",
     "output_type": "stream",
     "text": [
      "Number of rows without original_title:  36\n"
     ]
    }
   ],
   "source": [
    "# print the number of rows which don't have an original_title\n",
    "\n",
    "print(\"Number of rows without original_title: \", df['original_title'].isnull().sum())"
   ]
  },
  {
   "cell_type": "markdown",
   "metadata": {},
   "source": [
    "Q3: How many unique books are present in the dataset ? Evaluate based on the 'book_id' after removing null values in the original_title column."
   ]
  },
  {
   "cell_type": "code",
   "execution_count": 8,
   "metadata": {},
   "outputs": [
    {
     "name": "stdout",
     "output_type": "stream",
     "text": [
      "Number of unique books:  363\n"
     ]
    }
   ],
   "source": [
    "# remove the rows which don't have an original_title\n",
    "df = df.dropna(subset=['original_title'])\n",
    "\n",
    "# number of unique books in the dataset based on book_id\n",
    "\n",
    "print(\"Number of unique books: \", df['book_id'].nunique())"
   ]
  },
  {
   "cell_type": "markdown",
   "metadata": {},
   "source": [
    "Q4: What is the average rating of all the books in the dataset based on ‘average_rating’?"
   ]
  },
  {
   "cell_type": "code",
   "execution_count": 9,
   "metadata": {},
   "outputs": [
    {
     "name": "stdout",
     "output_type": "stream",
     "text": [
      "Average rating of all books:  3.987079889807162\n"
     ]
    }
   ],
   "source": [
    "# average rating of all books based on the column average_rating\n",
    "\n",
    "print(\"Average rating of all books: \", df['average_rating'].mean())"
   ]
  },
  {
   "cell_type": "markdown",
   "metadata": {},
   "source": [
    "Q5: Find the number of books published in the year ‘2000’ based on the ‘original_publication_year’."
   ]
  },
  {
   "cell_type": "code",
   "execution_count": 10,
   "metadata": {},
   "outputs": [
    {
     "name": "stdout",
     "output_type": "stream",
     "text": [
      "Number of books published in year 2000:  7\n"
     ]
    }
   ],
   "source": [
    "# number of books published in year 2000  based on original_publication_year\n",
    "\n",
    "print(\"Number of books published in year 2000: \", df[df['original_publication_year'] == 2000].shape[0])"
   ]
  },
  {
   "cell_type": "markdown",
   "metadata": {},
   "source": [
    "Q6: Which book (title) has the maximum number of ratings based on ‘work_ratings_count’."
   ]
  },
  {
   "cell_type": "code",
   "execution_count": 12,
   "metadata": {},
   "outputs": [
    {
     "name": "stdout",
     "output_type": "stream",
     "text": [
      "   book_id  goodreads_book_id  best_book_id  work_id  books_count       isbn  \\\n",
      "0       15              48855         48855  3532896          710  553296981   \n",
      "\n",
      "         isbn13                                            authors  \\\n",
      "0  9.780553e+12  Anne Frank, Eleanor Roosevelt, B.M. Mooyaart-D...   \n",
      "\n",
      "   original_publication_year  \\\n",
      "0                     1947.0   \n",
      "\n",
      "                                      original_title  ... work_ratings_count  \\\n",
      "0  Het Achterhuis: Dagboekbrieven 14 juni 1942 - ...  ...            2024493   \n",
      "\n",
      "  work_text_reviews_count  ratings_1  ratings_2  ratings_3  ratings_4  \\\n",
      "0                   20825      45225      91270     355756     656870   \n",
      "\n",
      "   ratings_5                                          image_url  \\\n",
      "0     875372  https://images.gr-assets.com/books/1358276407m...   \n",
      "\n",
      "                                     small_image_url  NonEnglish  \n",
      "0  https://images.gr-assets.com/books/1358276407s...           0  \n",
      "\n",
      "[1 rows x 24 columns]\n",
      "Book title:  Het Achterhuis: Dagboekbrieven 14 juni 1942 - 1 augustus 1944\n"
     ]
    }
   ],
   "source": [
    "# print the book row which has the maximum number of ratings based on the column work_ratings_count\n",
    "\n",
    "book = df[df['work_ratings_count'] == df['work_ratings_count'].max()]\n",
    "\n",
    "#print(book)\n",
    "\n",
    "# print the book title\n",
    "print(\"Book title: \", book['original_title'].values[0])"
   ]
  },
  {
   "cell_type": "markdown",
   "metadata": {},
   "source": [
    "Q7: Bucket the average_rating of books into 11 buckets [0, 0.5, 1.0, 1.5, 2.0, 2.5, 3.0, 3.5, 4.0, 4.5, 5.0] with 0.5 decimal rounding (eg: average_rating 3.0 to 3.49 will fall in bucket 3.0). Plot bar graph to show total number of books in each rating bucket."
   ]
  },
  {
   "cell_type": "code",
   "execution_count": 16,
   "metadata": {},
   "outputs": [
    {
     "data": {
      "image/png": "[encoded data removed]",
      "text/plain": [
       "<Figure size 432x288 with 1 Axes>"
      ]
     },
     "metadata": {
      "needs_background": "light"
     },
     "output_type": "display_data"
    }
   ],
   "source": [
    "buckets = [0, 0.5, 1, 1.5, 2, 2.5, 3, 3.5, 4 , 4.5, 5]\n",
    "\n",
    "# plot the histogram of average_rating column count for each bucket by rounding off the average_rating column to the nearest bucket\n",
    "df['Rating Bucket'] = pd.cut(df['average_rating'], bins=buckets, right=False)\n",
    "\n",
    "bucket_counts = df.groupby('Rating Bucket').size()\n",
    "\n",
    "# Plot the bar graph\n",
    "bucket_counts.plot(kind='bar', color='skyblue')\n",
    "plt.title('Count of Books in Each Rating Bucket')\n",
    "plt.xlabel('Rating Bucket')\n",
    "plt.ylabel('Number of Books')\n",
    "plt.show()"
   ]
  }
 ],
 "metadata": {
  "kernelspec": {
   "display_name": "Python 3",
   "language": "python",
   "name": "python3"
  },
  "language_info": {
   "codemirror_mode": {
    "name": "ipython",
    "version": 3
   },
   "file_extension": ".py",
   "mimetype": "text/x-python",
   "name": "python",
   "nbconvert_exporter": "python",
   "pygments_lexer": "ipython3",
   "version": "3.9.0"
  }
 },
 "nbformat": 4,
 "nbformat_minor": 2
}
