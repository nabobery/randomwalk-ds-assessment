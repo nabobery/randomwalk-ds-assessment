{
 "cells": [
  {
   "cell_type": "markdown",
   "metadata": {},
   "source": [
    "### This notebook is created for ds assessment by Random Walk AI and written by [Avinash Changrani](https://github.com/nabobery/)"
   ]
  },
  {
   "cell_type": "code",
   "execution_count": 39,
   "metadata": {},
   "outputs": [],
   "source": [
    "# import the required libraries\n",
    "import matplotlib.pyplot as plt\n",
    "import pandas as pd"
   ]
  },
  {
   "cell_type": "code",
   "execution_count": 40,
   "metadata": {},
   "outputs": [
    {
     "data": {
      "text/html": [
       "<div>\n",
       "<style scoped>\n",
       "    .dataframe tbody tr th:only-of-type {\n",
       "        vertical-align: middle;\n",
       "    }\n",
       "\n",
       "    .dataframe tbody tr th {\n",
       "        vertical-align: top;\n",
       "    }\n",
       "\n",
       "    .dataframe thead th {\n",
       "        text-align: right;\n",
       "    }\n",
       "</style>\n",
       "<table border=\"1\" class=\"dataframe\">\n",
       "  <thead>\n",
       "    <tr style=\"text-align: right;\">\n",
       "      <th></th>\n",
       "      <th>book_id</th>\n",
       "      <th>goodreads_book_id</th>\n",
       "      <th>best_book_id</th>\n",
       "      <th>work_id</th>\n",
       "      <th>books_count</th>\n",
       "      <th>isbn</th>\n",
       "      <th>isbn13</th>\n",
       "      <th>authors</th>\n",
       "      <th>original_publication_year</th>\n",
       "      <th>original_title</th>\n",
       "      <th>...</th>\n",
       "      <th>work_ratings_count</th>\n",
       "      <th>work_text_reviews_count</th>\n",
       "      <th>ratings_1</th>\n",
       "      <th>ratings_2</th>\n",
       "      <th>ratings_3</th>\n",
       "      <th>ratings_4</th>\n",
       "      <th>ratings_5</th>\n",
       "      <th>image_url</th>\n",
       "      <th>small_image_url</th>\n",
       "      <th>NonEnglish</th>\n",
       "    </tr>\n",
       "  </thead>\n",
       "  <tbody>\n",
       "    <tr>\n",
       "      <th>0</th>\n",
       "      <td>15</td>\n",
       "      <td>48855</td>\n",
       "      <td>48855</td>\n",
       "      <td>3532896</td>\n",
       "      <td>710</td>\n",
       "      <td>553296981</td>\n",
       "      <td>9.780553e+12</td>\n",
       "      <td>Anne Frank, Eleanor Roosevelt, B.M. Mooyaart-D...</td>\n",
       "      <td>1947.0</td>\n",
       "      <td>Het Achterhuis: Dagboekbrieven 14 juni 1942 - ...</td>\n",
       "      <td>...</td>\n",
       "      <td>2024493</td>\n",
       "      <td>20825</td>\n",
       "      <td>45225</td>\n",
       "      <td>91270</td>\n",
       "      <td>355756</td>\n",
       "      <td>656870</td>\n",
       "      <td>875372</td>\n",
       "      <td>https://images.gr-assets.com/books/1358276407m...</td>\n",
       "      <td>https://images.gr-assets.com/books/1358276407s...</td>\n",
       "      <td>0</td>\n",
       "    </tr>\n",
       "    <tr>\n",
       "      <th>1</th>\n",
       "      <td>40</td>\n",
       "      <td>19501</td>\n",
       "      <td>19501</td>\n",
       "      <td>3352398</td>\n",
       "      <td>185</td>\n",
       "      <td>143038419</td>\n",
       "      <td>9.780143e+12</td>\n",
       "      <td>Elizabeth Gilbert</td>\n",
       "      <td>2006.0</td>\n",
       "      <td>Eat, pray, love: one woman's search for everyt...</td>\n",
       "      <td>...</td>\n",
       "      <td>1206597</td>\n",
       "      <td>49714</td>\n",
       "      <td>100373</td>\n",
       "      <td>149549</td>\n",
       "      <td>310212</td>\n",
       "      <td>332191</td>\n",
       "      <td>314272</td>\n",
       "      <td>https://images.gr-assets.com/books/1503066414m...</td>\n",
       "      <td>https://images.gr-assets.com/books/1503066414s...</td>\n",
       "      <td>0</td>\n",
       "    </tr>\n",
       "    <tr>\n",
       "      <th>2</th>\n",
       "      <td>81</td>\n",
       "      <td>7445</td>\n",
       "      <td>7445</td>\n",
       "      <td>2944133</td>\n",
       "      <td>92</td>\n",
       "      <td>074324754X</td>\n",
       "      <td>9.780743e+12</td>\n",
       "      <td>Jeannette Walls</td>\n",
       "      <td>2005.0</td>\n",
       "      <td>The Glass Castle</td>\n",
       "      <td>...</td>\n",
       "      <td>637866</td>\n",
       "      <td>40777</td>\n",
       "      <td>7901</td>\n",
       "      <td>18922</td>\n",
       "      <td>85191</td>\n",
       "      <td>227750</td>\n",
       "      <td>298102</td>\n",
       "      <td>https://images.gr-assets.com/books/1400930557m...</td>\n",
       "      <td>https://images.gr-assets.com/books/1400930557s...</td>\n",
       "      <td>0</td>\n",
       "    </tr>\n",
       "    <tr>\n",
       "      <th>3</th>\n",
       "      <td>82</td>\n",
       "      <td>1845</td>\n",
       "      <td>1845</td>\n",
       "      <td>3284484</td>\n",
       "      <td>108</td>\n",
       "      <td>385486804</td>\n",
       "      <td>9.780385e+12</td>\n",
       "      <td>Jon Krakauer</td>\n",
       "      <td>1996.0</td>\n",
       "      <td>Into the Wild</td>\n",
       "      <td>...</td>\n",
       "      <td>665377</td>\n",
       "      <td>17299</td>\n",
       "      <td>19229</td>\n",
       "      <td>35567</td>\n",
       "      <td>135199</td>\n",
       "      <td>248287</td>\n",
       "      <td>227095</td>\n",
       "      <td>https://images.gr-assets.com/books/1403173986m...</td>\n",
       "      <td>https://images.gr-assets.com/books/1403173986s...</td>\n",
       "      <td>0</td>\n",
       "    </tr>\n",
       "    <tr>\n",
       "      <th>4</th>\n",
       "      <td>87</td>\n",
       "      <td>1617</td>\n",
       "      <td>1617</td>\n",
       "      <td>265616</td>\n",
       "      <td>109</td>\n",
       "      <td>374500010</td>\n",
       "      <td>9.780375e+12</td>\n",
       "      <td>Elie Wiesel, Marion Wiesel</td>\n",
       "      <td>1958.0</td>\n",
       "      <td>Un di Velt Hot Geshvign</td>\n",
       "      <td>...</td>\n",
       "      <td>707879</td>\n",
       "      <td>22001</td>\n",
       "      <td>7761</td>\n",
       "      <td>18539</td>\n",
       "      <td>90575</td>\n",
       "      <td>230227</td>\n",
       "      <td>360777</td>\n",
       "      <td>https://images.gr-assets.com/books/1473495285m...</td>\n",
       "      <td>https://images.gr-assets.com/books/1473495285s...</td>\n",
       "      <td>0</td>\n",
       "    </tr>\n",
       "  </tbody>\n",
       "</table>\n",
       "<p>5 rows × 24 columns</p>\n",
       "</div>"
      ],
      "text/plain": [
       "   book_id  goodreads_book_id  best_book_id  work_id  books_count        isbn  \\\n",
       "0       15              48855         48855  3532896          710   553296981   \n",
       "1       40              19501         19501  3352398          185   143038419   \n",
       "2       81               7445          7445  2944133           92  074324754X   \n",
       "3       82               1845          1845  3284484          108   385486804   \n",
       "4       87               1617          1617   265616          109   374500010   \n",
       "\n",
       "         isbn13                                            authors  \\\n",
       "0  9.780553e+12  Anne Frank, Eleanor Roosevelt, B.M. Mooyaart-D...   \n",
       "1  9.780143e+12                                  Elizabeth Gilbert   \n",
       "2  9.780743e+12                                    Jeannette Walls   \n",
       "3  9.780385e+12                                       Jon Krakauer   \n",
       "4  9.780375e+12                         Elie Wiesel, Marion Wiesel   \n",
       "\n",
       "   original_publication_year  \\\n",
       "0                     1947.0   \n",
       "1                     2006.0   \n",
       "2                     2005.0   \n",
       "3                     1996.0   \n",
       "4                     1958.0   \n",
       "\n",
       "                                      original_title  ... work_ratings_count  \\\n",
       "0  Het Achterhuis: Dagboekbrieven 14 juni 1942 - ...  ...            2024493   \n",
       "1  Eat, pray, love: one woman's search for everyt...  ...            1206597   \n",
       "2                                   The Glass Castle  ...             637866   \n",
       "3                                      Into the Wild  ...             665377   \n",
       "4                            Un di Velt Hot Geshvign  ...             707879   \n",
       "\n",
       "  work_text_reviews_count  ratings_1  ratings_2  ratings_3  ratings_4  \\\n",
       "0                   20825      45225      91270     355756     656870   \n",
       "1                   49714     100373     149549     310212     332191   \n",
       "2                   40777       7901      18922      85191     227750   \n",
       "3                   17299      19229      35567     135199     248287   \n",
       "4                   22001       7761      18539      90575     230227   \n",
       "\n",
       "   ratings_5                                          image_url  \\\n",
       "0     875372  https://images.gr-assets.com/books/1358276407m...   \n",
       "1     314272  https://images.gr-assets.com/books/1503066414m...   \n",
       "2     298102  https://images.gr-assets.com/books/1400930557m...   \n",
       "3     227095  https://images.gr-assets.com/books/1403173986m...   \n",
       "4     360777  https://images.gr-assets.com/books/1473495285m...   \n",
       "\n",
       "                                     small_image_url  NonEnglish  \n",
       "0  https://images.gr-assets.com/books/1358276407s...           0  \n",
       "1  https://images.gr-assets.com/books/1503066414s...           0  \n",
       "2  https://images.gr-assets.com/books/1400930557s...           0  \n",
       "3  https://images.gr-assets.com/books/1403173986s...           0  \n",
       "4  https://images.gr-assets.com/books/1473495285s...           0  \n",
       "\n",
       "[5 rows x 24 columns]"
      ]
     },
     "execution_count": 40,
     "metadata": {},
     "output_type": "execute_result"
    }
   ],
   "source": [
    "# import the dataset books.csv\n",
    "df = pd.read_csv('books.csv')\n",
    "\n",
    "# print the first 5 rows of the dataset\n",
    "df.head()"
   ]
  },
  {
   "cell_type": "markdown",
   "metadata": {},
   "source": [
    " Q1: How many rows and columns are there in books.csv dataset?"
   ]
  },
  {
   "cell_type": "code",
   "execution_count": 41,
   "metadata": {},
   "outputs": [
    {
     "name": "stdout",
     "output_type": "stream",
     "text": [
      "Number of rows:  399\n",
      "Number of columns:  24\n"
     ]
    }
   ],
   "source": [
    "# get the shape of dataset\n",
    "shape = df.shape\n",
    "\n",
    "print(\"Number of rows: \", shape[0])\n",
    "\n",
    "print(\"Number of columns: \", shape[1])"
   ]
  },
  {
   "cell_type": "code",
   "execution_count": 42,
   "metadata": {},
   "outputs": [
    {
     "name": "stdout",
     "output_type": "stream",
     "text": [
      "Index(['book_id', 'goodreads_book_id', 'best_book_id', 'work_id',\n",
      "       'books_count', 'isbn', 'isbn13', 'authors', 'original_publication_year',\n",
      "       'original_title', 'title', 'language_code', 'average_rating',\n",
      "       'ratings_count', 'work_ratings_count', 'work_text_reviews_count',\n",
      "       'ratings_1', 'ratings_2', 'ratings_3', 'ratings_4', 'ratings_5',\n",
      "       'image_url', 'small_image_url', 'NonEnglish'],\n",
      "      dtype='object')\n"
     ]
    }
   ],
   "source": [
    "# print all the columns of the dataset\n",
    "print(df.columns)"
   ]
  },
  {
   "cell_type": "markdown",
   "metadata": {},
   "source": [
    " Q2: How many books do not have an original title?"
   ]
  },
  {
   "cell_type": "code",
   "execution_count": 43,
   "metadata": {},
   "outputs": [
    {
     "name": "stdout",
     "output_type": "stream",
     "text": [
      "Number of rows without original_title:  36\n"
     ]
    }
   ],
   "source": [
    "# print the number of rows which don't have an original_title\n",
    "\n",
    "print(\"Number of rows without original_title: \", df['original_title'].isnull().sum())"
   ]
  },
  {
   "cell_type": "markdown",
   "metadata": {},
   "source": [
    "Q3: How many unique books are present in the dataset ? Evaluate based on the 'book_id' after removing null values in the original_title column."
   ]
  },
  {
   "cell_type": "code",
   "execution_count": 44,
   "metadata": {},
   "outputs": [
    {
     "name": "stdout",
     "output_type": "stream",
     "text": [
      "Number of unique books:  363\n"
     ]
    }
   ],
   "source": [
    "# remove the rows which don't have an original_title\n",
    "df_cleaned = df.dropna(subset=['original_title'])\n",
    "\n",
    "# number of unique books in the dataset based on book_id\n",
    "print(\"Number of unique books: \", df_cleaned['book_id'].nunique())"
   ]
  },
  {
   "cell_type": "markdown",
   "metadata": {},
   "source": [
    "Q4: What is the average rating of all the books in the dataset based on ‘average_rating’?"
   ]
  },
  {
   "cell_type": "code",
   "execution_count": 45,
   "metadata": {},
   "outputs": [
    {
     "name": "stdout",
     "output_type": "stream",
     "text": [
      "Average rating of all books:  3.9837844611528817\n"
     ]
    }
   ],
   "source": [
    "# average rating of all books based on the column average_rating\n",
    "print(\"Average rating of all books: \", df['average_rating'].mean())"
   ]
  },
  {
   "cell_type": "markdown",
   "metadata": {},
   "source": [
    "Q5: Find the number of books published in the year ‘2000’ based on the ‘original_publication_year’."
   ]
  },
  {
   "cell_type": "code",
   "execution_count": 46,
   "metadata": {},
   "outputs": [
    {
     "name": "stdout",
     "output_type": "stream",
     "text": [
      "Number of books published in year 2000:  8\n"
     ]
    }
   ],
   "source": [
    "# number of books published in year 2000  based on original_publication_year\n",
    "print(\"Number of books published in year 2000: \", df[df['original_publication_year'] == 2000].shape[0])"
   ]
  },
  {
   "cell_type": "markdown",
   "metadata": {},
   "source": [
    "Q6: Which book (title) has the maximum number of ratings based on ‘work_ratings_count’."
   ]
  },
  {
   "cell_type": "code",
   "execution_count": 47,
   "metadata": {},
   "outputs": [
    {
     "name": "stdout",
     "output_type": "stream",
     "text": [
      "Book title with maximum number of ratings:  The Diary of a Young Girl\n"
     ]
    }
   ],
   "source": [
    "# print the book row which has the maximum number of ratings based on the column work_ratings_count\n",
    "book = df[df['work_ratings_count'] == df['work_ratings_count'].max()]\n",
    "\n",
    "#print(book)\n",
    "\n",
    "# print the book title\n",
    "print(\"Book title with maximum number of ratings: \", book['title'].values[0])"
   ]
  },
  {
   "cell_type": "markdown",
   "metadata": {},
   "source": [
    "Q7: Bucket the average_rating of books into 11 buckets [0, 0.5, 1.0, 1.5, 2.0, 2.5, 3.0, 3.5, 4.0, 4.5, 5.0] with 0.5 decimal rounding (eg: average_rating 3.0 to 3.49 will fall in bucket 3.0). Plot bar graph to show total number of books in each rating bucket."
   ]
  },
  {
   "cell_type": "code",
   "execution_count": 48,
   "metadata": {},
   "outputs": [
    {
     "data": {
      "image/png": "[encoded data removed]",
      "text/plain": [
       "<Figure size 720x576 with 1 Axes>"
      ]
     },
     "metadata": {
      "needs_background": "light"
     },
     "output_type": "display_data"
    }
   ],
   "source": [
    "buckets = [0, 0.5, 1, 1.5, 2, 2.5, 3, 3.5, 4 , 4.5, 5]\n",
    "\n",
    "# plot the histogram of average_rating column count for each bucket by rounding off the average_rating column to the nearest bucket\n",
    "df['Rating Bucket'] = pd.cut(df['average_rating'], bins=buckets, right=False)\n",
    "\n",
    "bucket_counts = df.groupby('Rating Bucket').size()\n",
    "\n",
    "# Plot the bar graph\n",
    "plt.figure(figsize=(10, 8))\n",
    "bucket_counts.plot(kind='bar')\n",
    "plt.title('Count of Books in Each Rating Bucket')\n",
    "plt.xlabel('Rating Bucket')\n",
    "plt.ylabel('Number of Books')\n",
    "plt.show()"
   ]
  }
 ],
 "metadata": {
  "kernelspec": {
   "display_name": "Python 3",
   "language": "python",
   "name": "python3"
  },
  "language_info": {
   "codemirror_mode": {
    "name": "ipython",
    "version": 3
   },
   "file_extension": ".py",
   "mimetype": "text/x-python",
   "name": "python",
   "nbconvert_exporter": "python",
   "pygments_lexer": "ipython3",
   "version": "3.9.0"
  }
 },
 "nbformat": 4,
 "nbformat_minor": 2
}
